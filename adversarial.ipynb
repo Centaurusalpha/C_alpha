{
 "cells": [
  {
   "cell_type": "code",
   "execution_count": 1,
   "metadata": {},
   "outputs": [],
   "source": [
    "from torch.autograd import Variable\n",
    "import numpy as np\n",
    "import torch\n",
    "import torch.nn as nn\n",
    "import torch.optim as optim\n",
    "from torch.utils.data import DataLoader\n",
    "from torchvision import datasets, transforms\n",
    "from torch.autograd import Variable\n",
    "import matplotlib.pyplot as plt"
   ]
  },
  {
   "cell_type": "code",
   "execution_count": 2,
   "metadata": {},
   "outputs": [],
   "source": [
    "class CNN(nn.Module):\n",
    "    def __init__(self):\n",
    "        super(CNN,self).__init__()\n",
    "        self.layer1=nn.Sequential(\n",
    "            nn.Conv2d(1, 16, kernel_size=3),nn.BatchNorm2d(16),\n",
    "            nn.ReLU(inplace=True)\n",
    "        )\n",
    "\n",
    "        self.layer2=nn.Sequential(\n",
    "            nn.Conv2d(16,32,kernel_size=3),nn.BatchNorm2d(32),\n",
    "            nn.ReLU(inplace=True),\n",
    "            nn.MaxPool2d(kernel_size=2,stride=2)\n",
    "        )\n",
    "\n",
    "        self.layer3=nn.Sequential(\n",
    "            nn.Conv2d(32,64,kernel_size=3),\n",
    "            nn.BatchNorm2d(64),\n",
    "            nn.ReLU(inplace=True)\n",
    "        )\n",
    "\n",
    "        self.layer4=nn.Sequential(\n",
    "            nn.Conv2d(64,128,kernel_size=3),\n",
    "            nn.BatchNorm2d(128),\n",
    "            nn.ReLU(inplace=True),\n",
    "            nn.MaxPool2d(kernel_size=2,stride=2)\n",
    "        )\n",
    "\n",
    "\n",
    "        self.fc=nn.Sequential(\n",
    "            nn.Linear(128*4*4,256),\n",
    "            nn.ReLU(inplace=True),\n",
    "            nn.Linear(256,10) )\n",
    "    def forward(self, x):\n",
    "        x = self.layer1(x)\n",
    "        x = self.layer2(x)\n",
    "        x = self.layer3(x)\n",
    "        x = self.layer4(x)\n",
    "        # x = self.layer5(x)\n",
    "        x = x.view(x.size(0),-1)\n",
    "        x=self.fc(x)\n",
    "        return x"
   ]
  },
  {
   "cell_type": "code",
   "execution_count": 3,
   "metadata": {},
   "outputs": [],
   "source": [
    "batch_size=64\n",
    "learning_rate=1e-2\n",
    "num_epoches=20\n",
    "data_tf = transforms.Compose(\n",
    "        [transforms.ToTensor(), transforms.Normalize([0.5], [0.5])]\n",
    "    )\n",
    "train_dataset=datasets.MNIST(root='./data',train=True,transform=data_tf,\n",
    "                             download=True)\n",
    "test_dataset=datasets.MNIST(root='./data',train=False,transform=data_tf)\n",
    "train_loader=DataLoader(train_dataset,batch_size=batch_size,shuffle=True)\n",
    "test_loader=DataLoader(test_dataset,batch_size=batch_size,shuffle=False)"
   ]
  },
  {
   "cell_type": "code",
   "execution_count": 4,
   "metadata": {},
   "outputs": [
    {
     "name": "stderr",
     "output_type": "stream",
     "text": [
      "D:\\Anaconda\\lib\\site-packages\\torch\\serialization.py:391: UserWarning: Couldn't retrieve source code for container of type CNN. It won't be checked for correctness upon loading.\n",
      "  \"type \" + container_type.__name__ + \". It won't be checked \"\n"
     ]
    }
   ],
   "source": [
    "model=torch.load('model.pkl')"
   ]
  },
  {
   "cell_type": "code",
   "execution_count": 5,
   "metadata": {},
   "outputs": [],
   "source": [
    "criterion=nn.CrossEntropyLoss()\n",
    "optimizer=optim.SGD(model.parameters(),lr=learning_rate)"
   ]
  },
  {
   "cell_type": "code",
   "execution_count": 6,
   "metadata": {},
   "outputs": [],
   "source": [
    "def test():\n",
    "    # model.eval()\n",
    "    eval_loss = 0\n",
    "    eval_acc = 0\n",
    "    for data in test_loader:\n",
    "        img, label = data\n",
    "        # img = img.view(img.size(0), -1)\n",
    "        if torch.cuda.is_available():\n",
    "            img = img.cuda()\n",
    "            label = label.cuda()\n",
    "        # out = model(img)\n",
    "        out = model(img)\n",
    "        loss = criterion(out, label)\n",
    "        eval_loss += loss.data.item() * label.size(0)\n",
    "        _, pred = torch.max(out, 1)\n",
    "        num_correct = (pred == label).sum()\n",
    "        eval_acc += num_correct.item()\n",
    "    print('Test Loss: {:.6f}, Acc: {:.6f}'.format(\n",
    "        eval_loss / (len(test_dataset)),\n",
    "        eval_acc / (len(test_dataset))\n",
    "    ))\n",
    "\n"
   ]
  },
  {
   "cell_type": "code",
   "execution_count": 7,
   "metadata": {},
   "outputs": [
    {
     "name": "stdout",
     "output_type": "stream",
     "text": [
      "Test Loss: 0.024751, Acc: 0.992300\n"
     ]
    }
   ],
   "source": [
    "test()"
   ]
  },
  {
   "cell_type": "code",
   "execution_count": 8,
   "metadata": {},
   "outputs": [],
   "source": [
    "def make_noise(input_data,aimtarget,epoch):\n",
    "    noise=torch.rand(1,1,28,28).float().cuda()\n",
    "    data=(1/255)*input_data.float().reshape(1,1,28,28).cuda()\n",
    "    target=torch.tensor(aimtarget).unsqueeze(0).long().cuda()\n",
    "    noise.requires_grad=True\n",
    "    advoptimizer=optim.SGD([noise],lr=learning_rate)\n",
    "    for i in range(epoch):\n",
    "        img=data+noise\n",
    "        ans=model(img)\n",
    "        loss=criterion(ans,target)+noise.norm()**(1.8)\n",
    "        advoptimizer.zero_grad()\n",
    "        loss.backward()\n",
    "        advoptimizer.step()\n",
    "    return noise\n",
    "    "
   ]
  },
  {
   "cell_type": "code",
   "execution_count": 9,
   "metadata": {},
   "outputs": [
    {
     "name": "stdout",
     "output_type": "stream",
     "text": [
      "tensor(5.3778, device='cuda:0', grad_fn=<NormBackward0>)\n",
      "aimtarget:5\n",
      "result target:5\n"
     ]
    },
    {
     "data": {
      "text/plain": [
       "<matplotlib.image.AxesImage at 0x23f0911ff60>"
      ]
     },
     "execution_count": 9,
     "metadata": {},
     "output_type": "execute_result"
    },
    {
     "data": {
      "image/png": "[encoded data removed]",
      "text/plain": [
       "<Figure size 432x288 with 3 Axes>"
      ]
     },
     "metadata": {
      "needs_background": "light"
     },
     "output_type": "display_data"
    }
   ],
   "source": [
    "data1=train_dataset.train_data[1]\n",
    "noise_1=make_noise(data1,5,100)\n",
    "ans=model(noise_1+(1/255)*data1.float().reshape(1,1,28,28).cuda())\n",
    "# print('the norm of noise_1 is{}'.format(noise_1.norm())\n",
    "print(noise_1.norm())\n",
    "print('aimtarget:{}'.format(5))\n",
    "print('result target:{}'.format(torch.max(ans,1)[1].item()))\n",
    "plt.subplot(131)\n",
    "plt.imshow(data1.reshape(28,28),cmap='gray')\n",
    "plt.subplot(132)\n",
    "plt.imshow(noise_1.cpu().detach().numpy().reshape(28,28),cmap='gray')\n",
    "plt.subplot(133)\n",
    "plt.imshow(noise_1.cpu().detach().numpy().reshape(28,28)+data1.reshape(28,28),cmap='gray')"
   ]
  },
  {
   "cell_type": "code",
   "execution_count": 11,
   "metadata": {},
   "outputs": [
    {
     "name": "stdout",
     "output_type": "stream",
     "text": [
      "tensor(6.7815, device='cuda:0', grad_fn=<DivBackward0>)\n",
      "5.0\n"
     ]
    }
   ],
   "source": [
    "totalnorm=0\n",
    "acc=0\n",
    "for i in range(1000):\n",
    "    data=train_dataset.train_data[i]\n",
    "    noise=make_noise(data,7,300)\n",
    "    ans=model(noise+(1/255)*data.float().reshape(1,1,28,28).cuda())\n",
    "    if torch.max(ans,1)[1].item()==7:\n",
    "        acc+=1\n",
    "        totalnorm+=noise.norm()\n",
    "print(totalnorm/200)\n",
    "print(acc/200)"
   ]
  },
  {
   "cell_type": "code",
   "execution_count": 12,
   "metadata": {},
   "outputs": [
    {
     "name": "stdout",
     "output_type": "stream",
     "text": [
      "tensor(1.3563, device='cuda:0', grad_fn=<DivBackward0>)\n",
      "1.0\n"
     ]
    }
   ],
   "source": [
    "print(totalnorm/1000)\n",
    "print(acc/1000)"
   ]
  },
  {
   "cell_type": "code",
   "execution_count": null,
   "metadata": {},
   "outputs": [],
   "source": []
  }
 ],
 "metadata": {
  "kernelspec": {
   "display_name": "Python 3",
   "language": "python",
   "name": "python3"
  },
  "language_info": {
   "codemirror_mode": {
    "name": "ipython",
    "version": 3
   },
   "file_extension": ".py",
   "mimetype": "text/x-python",
   "name": "python",
   "nbconvert_exporter": "python",
   "pygments_lexer": "ipython3",
   "version": "3.7.0"
  }
 },
 "nbformat": 4,
 "nbformat_minor": 2
}
